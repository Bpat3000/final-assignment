{
 "cells": [
  {
   "cell_type": "markdown",
   "id": "473e8ddc-80cf-4b5e-86c7-3c8f7604cf9f",
   "metadata": {
    "tags": []
   },
   "source": [
    "# Data Science Tools and Ecosystem"
   ]
  },
  {
   "cell_type": "markdown",
   "id": "47bc2e22-b515-422b-9893-c9413089ba78",
   "metadata": {
    "tags": []
   },
   "source": [
    "In this notebook, Data Science Tools and Ecosystem are summarized."
   ]
  },
  {
   "cell_type": "markdown",
   "id": "3b791154-a25d-46a9-8dfd-5091737803f9",
   "metadata": {},
   "source": [
    "Some of the popular languages that Data Scientists use are:\n",
    "1. R\n",
    "2. Python\n",
    "3. Julia\n",
    "4. SQL\n",
    "5. Scala\n",
    "6. SAS\n",
    "7. MATLAB\n",
    "8. Java"
   ]
  },
  {
   "cell_type": "markdown",
   "id": "b5ab2729-3cb1-4d27-bcf8-ea3959fc7b81",
   "metadata": {},
   "source": [
    "Some of the commonly used libraries used by Data Scientists include:\n",
    "1. dplyr\n",
    "2. ggplot2\n",
    "3. tidyr\n",
    "4. scikit-learn (Python)\n",
    "5. pandas (Python)\n",
    "6. NumPy (Python)\n",
    "7. TensorFlow (Python)\n",
    "8. PyTorch (Python)\n",
    "9. Matplotlib (Python)\n",
    "10. Keras (Python)\n",
    "11. H2O (R)\n",
    "12. caret (R)\n",
    "13. xgboost (R)"
   ]
  },
  {
   "cell_type": "markdown",
   "id": "81e8992d-1d08-48e0-b9f6-c8cbff44e364",
   "metadata": {},
   "source": [
    "| Data Science Tools   |\n",
    "|----------------------|\n",
    "| R                    |\n",
    "| Python               |\n",
    "| Jupyter Notebooks    |\n",
    "| Tableau              |\n",
    "| Power BI             |\n",
    "| KNIME                |\n",
    "| RapidMiner           |\n",
    "| Orange               |"
   ]
  },
  {
   "cell_type": "markdown",
   "id": "84bbd6f1-f8ed-457d-aaee-b0ae79ee8bc0",
   "metadata": {},
   "source": [
    "### Below are a few examples of evaluating arithmetic expressions in R."
   ]
  },
  {
   "cell_type": "code",
   "execution_count": 3,
   "id": "8349e049-70d8-46fc-b5a8-12e388f10988",
   "metadata": {
    "tags": []
   },
   "outputs": [
    {
     "data": {
      "text/html": [
       "17"
      ],
      "text/latex": [
       "17"
      ],
      "text/markdown": [
       "17"
      ],
      "text/plain": [
       "[1] 17"
      ]
     },
     "metadata": {},
     "output_type": "display_data"
    }
   ],
   "source": [
    "# This is a simple arithmetic expression to multiply then add integers\n",
    "result <- (3 * 4) + 5\n",
    "result"
   ]
  },
  {
   "cell_type": "code",
   "execution_count": 4,
   "id": "1d67ed34-7ead-4ee5-8034-430f4ced2cfb",
   "metadata": {
    "tags": []
   },
   "outputs": [
    {
     "data": {
      "text/html": [
       "3.33333333333333"
      ],
      "text/latex": [
       "3.33333333333333"
      ],
      "text/markdown": [
       "3.33333333333333"
      ],
      "text/plain": [
       "[1] 3.333333"
      ]
     },
     "metadata": {},
     "output_type": "display_data"
    }
   ],
   "source": [
    "# This will convert 200 minutes to hours by dividing by 60\n",
    "hours <- 200 / 60\n",
    "hours"
   ]
  },
  {
   "cell_type": "markdown",
   "id": "398326bd-2125-4a8f-8544-12ebe6cfb3f2",
   "metadata": {},
   "source": [
    "**Objectives:**\n",
    "- List popular languages for Data Science\n",
    "- Introduce commonly used libraries\n",
    "- Create a table of Data Science tools"
   ]
  },
  {
   "cell_type": "markdown",
   "id": "90fd2000-2353-429c-98b5-fe1ecb15d7bb",
   "metadata": {
    "tags": []
   },
   "source": [
    "## Author\n",
    "Ben Patrick"
   ]
  },
  {
   "cell_type": "code",
   "execution_count": null,
   "id": "8a9f6d1c-b3dc-499f-af6f-1d5b27899220",
   "metadata": {},
   "outputs": [],
   "source": []
  }
 ],
 "metadata": {
  "kernelspec": {
   "display_name": "R",
   "language": "R",
   "name": "conda-env-r-r"
  },
  "language_info": {
   "codemirror_mode": "r",
   "file_extension": ".r",
   "mimetype": "text/x-r-source",
   "name": "R",
   "pygments_lexer": "r",
   "version": "3.5.1"
  }
 },
 "nbformat": 4,
 "nbformat_minor": 5
}
